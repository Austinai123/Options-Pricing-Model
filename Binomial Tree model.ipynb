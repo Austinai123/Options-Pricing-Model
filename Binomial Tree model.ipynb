{
 "cells": [
  {
   "cell_type": "markdown",
   "metadata": {},
   "source": [
    "Pricing European Options Through Binomial Trees"
   ]
  },
  {
   "cell_type": "markdown",
   "metadata": {},
   "source": [
    "Importing Necessary Libraries"
   ]
  },
  {
   "cell_type": "code",
   "execution_count": 271,
   "metadata": {},
   "outputs": [],
   "source": [
    "import pandas as pd\n",
    "import yfinance as yf\n",
    "import numpy as np\n",
    "from datetime import datetime as dt\n",
    "from datetime import timedelta\n",
    "import math\n",
    "import matplotlib.pyplot as plt\n",
    "import statistics"
   ]
  },
  {
   "cell_type": "markdown",
   "metadata": {},
   "source": [
    "User Imputs"
   ]
  },
  {
   "cell_type": "code",
   "execution_count": 272,
   "metadata": {},
   "outputs": [],
   "source": [
    "symbol = input(\"Enter symbol: \")\n",
    "expirey = int(input(\"Enter expirey index: \"))\n",
    "strike = float(input(\"Enter strike price: \"))\n",
    "option_type = input(\"Enter type of option (call/put): \")\n",
    "number_of_steps = int(input(\"Enter number of desired time steps\"))"
   ]
  },
  {
   "cell_type": "markdown",
   "metadata": {},
   "source": [
    "Obtaining Volatility For Underlying Stock From Historic Close Prices"
   ]
  },
  {
   "cell_type": "code",
   "execution_count": 273,
   "metadata": {},
   "outputs": [],
   "source": [
    "def get_historical_volatility(symbol):\n",
    "    TRADING_DAYS = 252\n",
    "    \n",
    "    # Get today's date\n",
    "    end_date = dt.today().strftime('%Y-%m-%d')\n",
    "\n",
    "    # Calculate the start date (6 months before today)\n",
    "    start_date = (dt.today() - timedelta(days=365)).strftime('%Y-%m-%d')\n",
    "\n",
    "    # Get historical data\n",
    "    stock_data = yf.download(symbol, start=start_date, end=end_date)\n",
    "\n",
    "    returns = np.log(stock_data['Close']/stock_data['Close'].shift(1)) # Log returns\n",
    "    returns = returns.iloc[1:] # Remove empty first row\n",
    "    daily_volatility = statistics.stdev(returns[1:])\n",
    "    annualized_volatility = daily_volatility*np.sqrt(TRADING_DAYS)\n",
    "\n",
    "    return annualized_volatility\n"
   ]
  },
  {
   "cell_type": "code",
   "execution_count": 280,
   "metadata": {},
   "outputs": [
    {
     "name": "stdout",
     "output_type": "stream",
     "text": [
      "[*********************100%%**********************]  1 of 1 completed\n"
     ]
    },
    {
     "data": {
      "text/plain": [
       "0.3043144577236233"
      ]
     },
     "execution_count": 280,
     "metadata": {},
     "output_type": "execute_result"
    }
   ],
   "source": [
    "get_historical_volatility(symbol)"
   ]
  },
  {
   "cell_type": "markdown",
   "metadata": {},
   "source": [
    "Options Data Fetcher from yfinance"
   ]
  },
  {
   "cell_type": "code",
   "execution_count": 274,
   "metadata": {},
   "outputs": [],
   "source": [
    "def get_data(symbol, expirey, strike, type_): \n",
    "    \"\"\"\n",
    "    Inputs the symbol of the underlying stock, the option expiration date, \n",
    "    with index 0 being the current week and increasing indices \n",
    "    resulting in later expiration dates as organized on Yahoo Finance, desired strike price,\n",
    "    and the type of option.\n",
    "    \"\"\"\n",
    "    Ticker = yf.Ticker(symbol)\n",
    "\n",
    "    stock_price = Ticker.info['currentPrice'] # Individually get stock price\n",
    "\n",
    "    FD_date = Ticker.options[expirey] # Options expirey time\n",
    "    desired_columns_yFinance = ['contractSymbol', 'strike', 'lastPrice', 'bid', 'ask',\n",
    "                                'change', 'volume', 'openInterest', 'impliedVolatility']\n",
    "\n",
    "    FD = Ticker.option_chain(FD_date) # Full dataframe of options of a given expirey time\n",
    "    try:\n",
    "        if type_ == 'call':\n",
    "            FD_calls = FD.calls[desired_columns_yFinance] # Dataframe of calls\n",
    "            call_data = FD_calls[FD_calls['strike'] == strike] # Call option market data of given strike\n",
    "\n",
    "            if not call_data.empty: # Given a valid strike representing a real option\n",
    "                call_data = call_data.reset_index(drop=True)  # Reset index\n",
    "                call_data['Underlying Stock Price'] = stock_price\n",
    "\n",
    "            return call_data\n",
    "\n",
    "        elif type_ == 'put':\n",
    "            FD_puts = FD.puts[desired_columns_yFinance] # Dataframe of puts\n",
    "            put_data = FD_puts[FD_puts['strike'] == strike] # Put option market data of given strike\n",
    "\n",
    "            if not put_data.empty: # Given a valid strike representing a real option\n",
    "                put_data = put_data.reset_index(drop=True)  # Reset index\n",
    "                put_data['Underlying Stock Price'] = stock_price\n",
    "\n",
    "            return put_data\n",
    "\n",
    "        else:\n",
    "            raise ValueError(\"type_ must be 'call' or 'put'\")\n",
    "\n",
    "    except pd.errors.EmptyDataError:\n",
    "        print(\"No comparable option with given strike available\")"
   ]
  },
  {
   "cell_type": "markdown",
   "metadata": {},
   "source": [
    "Calling the Data Fetcher Given the User's Inputs"
   ]
  },
  {
   "cell_type": "code",
   "execution_count": 275,
   "metadata": {},
   "outputs": [
    {
     "data": {
      "text/html": [
       "<div>\n",
       "<style scoped>\n",
       "    .dataframe tbody tr th:only-of-type {\n",
       "        vertical-align: middle;\n",
       "    }\n",
       "\n",
       "    .dataframe tbody tr th {\n",
       "        vertical-align: top;\n",
       "    }\n",
       "\n",
       "    .dataframe thead th {\n",
       "        text-align: right;\n",
       "    }\n",
       "</style>\n",
       "<table border=\"1\" class=\"dataframe\">\n",
       "  <thead>\n",
       "    <tr style=\"text-align: right;\">\n",
       "      <th></th>\n",
       "      <th>contractSymbol</th>\n",
       "      <th>strike</th>\n",
       "      <th>lastPrice</th>\n",
       "      <th>bid</th>\n",
       "      <th>ask</th>\n",
       "      <th>change</th>\n",
       "      <th>volume</th>\n",
       "      <th>openInterest</th>\n",
       "      <th>impliedVolatility</th>\n",
       "      <th>Underlying Stock Price</th>\n",
       "    </tr>\n",
       "  </thead>\n",
       "  <tbody>\n",
       "    <tr>\n",
       "      <th>0</th>\n",
       "      <td>MSFT231027P00315000</td>\n",
       "      <td>315.0</td>\n",
       "      <td>8.77</td>\n",
       "      <td>9.0</td>\n",
       "      <td>9.15</td>\n",
       "      <td>-2.25</td>\n",
       "      <td>127.0</td>\n",
       "      <td>948</td>\n",
       "      <td>0.311469</td>\n",
       "      <td>316.88</td>\n",
       "    </tr>\n",
       "  </tbody>\n",
       "</table>\n",
       "</div>"
      ],
      "text/plain": [
       "        contractSymbol  strike  lastPrice  bid   ask  change  volume  \\\n",
       "0  MSFT231027P00315000   315.0       8.77  9.0  9.15   -2.25   127.0   \n",
       "\n",
       "   openInterest  impliedVolatility  Underlying Stock Price  \n",
       "0           948           0.311469                  316.88  "
      ]
     },
     "execution_count": 275,
     "metadata": {},
     "output_type": "execute_result"
    }
   ],
   "source": [
    "data = get_data(symbol, expirey, strike, option_type)\n",
    "data"
   ]
  },
  {
   "cell_type": "markdown",
   "metadata": {},
   "source": [
    "Finding Time Until Expiration"
   ]
  },
  {
   "cell_type": "code",
   "execution_count": 276,
   "metadata": {},
   "outputs": [],
   "source": [
    "# Get expirey date\n",
    "expire_date = dt.strptime(yf.Ticker(f'{symbol}').options[expirey], '%Y-%m-%d')\n",
    "\n",
    "# Get today's date\n",
    "today = dt.today()\n",
    "\n",
    "# Calculate the time period in days\n",
    "time_period_days = (expire_date - today).days\n",
    "\n",
    "# Convert days to months\n",
    "time_period_months = time_period_days / 30  # Assuming an average month length of 30 days"
   ]
  },
  {
   "cell_type": "markdown",
   "metadata": {},
   "source": [
    "Extracting Required Data For Options Pricing"
   ]
  },
  {
   "cell_type": "code",
   "execution_count": 277,
   "metadata": {},
   "outputs": [
    {
     "name": "stdout",
     "output_type": "stream",
     "text": [
      "[*********************100%%**********************]  1 of 1 completed\n"
     ]
    }
   ],
   "source": [
    "def extract_data_from_dataframe(data):\n",
    "    S = data['Underlying Stock Price'].values[0]\n",
    "    K = data['strike'].values[0]\n",
    "    r = float(yf.Ticker(\"^IRX\").info[\"previousClose\"]) / 100 # 13 week US treasury bill\n",
    "    T = time_period_months\n",
    "    N = number_of_steps\n",
    "    sigma = get_historical_volatility(symbol)\n",
    "    div = float(yf.Ticker(symbol).info['dividendYield'])\n",
    "    \n",
    "    return S, K, r, T, N, sigma, div\n",
    "\n",
    "S, K, r, T, N, sigma, div = extract_data_from_dataframe(data)"
   ]
  },
  {
   "cell_type": "markdown",
   "metadata": {
    "tags": []
   },
   "source": [
    "Storing Attributes of Stock Option"
   ]
  },
  {
   "cell_type": "code",
   "execution_count": 278,
   "metadata": {},
   "outputs": [],
   "source": [
    "class option(object):\n",
    "\n",
    "    def __init__(self, S, K, r, T, N, sigma, div, option_type, ):\n",
    "        self.S = S\n",
    "        self.K = K\n",
    "        self.r = r\n",
    "        self.T = T\n",
    "        self.N = max(1, N) # N must have at least 1 time step\n",
    "        self.STs = None  # Declare the stock prices tree\n",
    "        self.sigma = sigma # Volatility\n",
    "        self.div = div # Dividend ield\n",
    "        self.is_call = option_type == 'call' # Call or put\n",
    "\n",
    "        # Computed Values\n",
    "        self.dt = T/float(N)  # Single time step, in years\n",
    "        self.df = math.exp(\n",
    "            -(self.r-self.div) * self.dt)  # Discount factor\n",
    "        \n",
    "\n",
    "    \"\"\" Pricing Functions\"\"\"   \n",
    "    def __setup_parameters__(self):\n",
    "        \"\"\" Required calculations for the model \"\"\"\n",
    "        self.M = self.N + 1  # Number of terminal nodes of tree\n",
    "        self.u = math.exp(self.sigma * math.sqrt(self.dt)) # Expected value in the up state\n",
    "        self.d = math.exp(-self.sigma * math.sqrt(self.dt)) # Expected value in the down state\n",
    "        self.qu = (math.exp((-self.r-self.div)*self.dt) -\n",
    "                   self.d) / (self.u-self.d)\n",
    "        self.qd = 1-self.qu\n",
    "\n",
    "    def _initialize_stock_price_tree_(self):\n",
    "        # Initialize terminal price nodes to zeros\n",
    "        self.STs = np.zeros(self.M)\n",
    "\n",
    "        # Calculate expected stock prices for each node\n",
    "        for i in range(self.M):\n",
    "            self.STs[i] = self.S*(self.u**(self.N-i))*(self.d**i)\n",
    "\n",
    "    def _initialize_payoffs_tree_(self):\n",
    "        # Get payoffs when the option expires at terminal nodes\n",
    "        payoffs = np.maximum(\n",
    "            0, (self.STs-self.K) if self.is_call\n",
    "            else(self.K-self.STs))\n",
    "\n",
    "        return payoffs\n",
    "\n",
    "    def _traverse_tree_(self, payoffs):\n",
    "        # Starting from the time the option expires, traverse\n",
    "        # backwards and calculate discounted payoffs at each node\n",
    "        for i in range(self.N):\n",
    "            payoffs = (payoffs[:-1] * self.qu +\n",
    "                       payoffs[1:] * self.qd) * self.df\n",
    "\n",
    "        return payoffs\n",
    "\n",
    "    def __begin_tree_traversal__(self):\n",
    "        payoffs = self._initialize_payoffs_tree_()\n",
    "        return self._traverse_tree_(payoffs)\n",
    "\n",
    "    def price(self):\n",
    "        \"\"\" The pricing implementation \"\"\"\n",
    "        self.__setup_parameters__()\n",
    "        self._initialize_stock_price_tree_()\n",
    "        payoffs = self.__begin_tree_traversal__()\n",
    "        \n",
    "        return payoffs[0]  # Option value converges to first node (second code cell)\n",
    "    "
   ]
  },
  {
   "cell_type": "markdown",
   "metadata": {},
   "source": [
    "Determining The Implied Option's Price"
   ]
  },
  {
   "cell_type": "code",
   "execution_count": 279,
   "metadata": {},
   "outputs": [
    {
     "name": "stdout",
     "output_type": "stream",
     "text": [
      "38.853947983131334\n"
     ]
    }
   ],
   "source": [
    "our_option = option(S, K, r, T, N, sigma, div, option_type)\n",
    "\n",
    "print(our_option.price())"
   ]
  }
 ],
 "metadata": {
  "kernelspec": {
   "display_name": "myenv",
   "language": "python",
   "name": "python3"
  },
  "language_info": {
   "codemirror_mode": {
    "name": "ipython",
    "version": 3
   },
   "file_extension": ".py",
   "mimetype": "text/x-python",
   "name": "python",
   "nbconvert_exporter": "python",
   "pygments_lexer": "ipython3",
   "version": "3.9.17"
  },
  "orig_nbformat": 4
 },
 "nbformat": 4,
 "nbformat_minor": 2
}
